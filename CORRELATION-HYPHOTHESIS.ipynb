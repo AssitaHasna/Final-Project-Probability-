{
 "cells": [
  {
   "cell_type": "code",
   "execution_count": 26,
   "id": "3ac94a93",
   "metadata": {},
   "outputs": [],
   "source": [
    "import pandas as pd\n",
    "import numpy as np\n",
    "import itertools\n",
    "import random\n",
    "import seaborn as sns\n",
    "import matplotlib.pyplot as plt\n",
    "import warnings\n",
    "from sklearn.model_selection import train_test_split\n",
    "from sklearn.linear_model import LinearRegression\n",
    "from sklearn import metrics\n",
    "import scipy.stats as stats\n",
    "from sklearn.preprocessing import LabelEncoder"
   ]
  },
  {
   "cell_type": "code",
   "execution_count": 4,
   "id": "bc21bba8",
   "metadata": {},
   "outputs": [
    {
     "data": {
      "text/html": [
       "<div>\n",
       "<style scoped>\n",
       "    .dataframe tbody tr th:only-of-type {\n",
       "        vertical-align: middle;\n",
       "    }\n",
       "\n",
       "    .dataframe tbody tr th {\n",
       "        vertical-align: top;\n",
       "    }\n",
       "\n",
       "    .dataframe thead th {\n",
       "        text-align: right;\n",
       "    }\n",
       "</style>\n",
       "<table border=\"1\" class=\"dataframe\">\n",
       "  <thead>\n",
       "    <tr style=\"text-align: right;\">\n",
       "      <th></th>\n",
       "      <th>age</th>\n",
       "      <th>sex</th>\n",
       "      <th>bmi</th>\n",
       "      <th>children</th>\n",
       "      <th>smoker</th>\n",
       "      <th>region</th>\n",
       "      <th>charges</th>\n",
       "    </tr>\n",
       "  </thead>\n",
       "  <tbody>\n",
       "    <tr>\n",
       "      <th>0</th>\n",
       "      <td>19</td>\n",
       "      <td>female</td>\n",
       "      <td>27.900</td>\n",
       "      <td>0</td>\n",
       "      <td>yes</td>\n",
       "      <td>southwest</td>\n",
       "      <td>16884.92400</td>\n",
       "    </tr>\n",
       "    <tr>\n",
       "      <th>1</th>\n",
       "      <td>18</td>\n",
       "      <td>male</td>\n",
       "      <td>33.770</td>\n",
       "      <td>1</td>\n",
       "      <td>no</td>\n",
       "      <td>southeast</td>\n",
       "      <td>1725.55230</td>\n",
       "    </tr>\n",
       "    <tr>\n",
       "      <th>2</th>\n",
       "      <td>28</td>\n",
       "      <td>male</td>\n",
       "      <td>33.000</td>\n",
       "      <td>3</td>\n",
       "      <td>no</td>\n",
       "      <td>southeast</td>\n",
       "      <td>4449.46200</td>\n",
       "    </tr>\n",
       "    <tr>\n",
       "      <th>3</th>\n",
       "      <td>33</td>\n",
       "      <td>male</td>\n",
       "      <td>22.705</td>\n",
       "      <td>0</td>\n",
       "      <td>no</td>\n",
       "      <td>northwest</td>\n",
       "      <td>21984.47061</td>\n",
       "    </tr>\n",
       "    <tr>\n",
       "      <th>4</th>\n",
       "      <td>32</td>\n",
       "      <td>male</td>\n",
       "      <td>28.880</td>\n",
       "      <td>0</td>\n",
       "      <td>no</td>\n",
       "      <td>northwest</td>\n",
       "      <td>3866.85520</td>\n",
       "    </tr>\n",
       "    <tr>\n",
       "      <th>...</th>\n",
       "      <td>...</td>\n",
       "      <td>...</td>\n",
       "      <td>...</td>\n",
       "      <td>...</td>\n",
       "      <td>...</td>\n",
       "      <td>...</td>\n",
       "      <td>...</td>\n",
       "    </tr>\n",
       "    <tr>\n",
       "      <th>1333</th>\n",
       "      <td>50</td>\n",
       "      <td>male</td>\n",
       "      <td>30.970</td>\n",
       "      <td>3</td>\n",
       "      <td>no</td>\n",
       "      <td>northwest</td>\n",
       "      <td>10600.54830</td>\n",
       "    </tr>\n",
       "    <tr>\n",
       "      <th>1334</th>\n",
       "      <td>18</td>\n",
       "      <td>female</td>\n",
       "      <td>31.920</td>\n",
       "      <td>0</td>\n",
       "      <td>no</td>\n",
       "      <td>northeast</td>\n",
       "      <td>2205.98080</td>\n",
       "    </tr>\n",
       "    <tr>\n",
       "      <th>1335</th>\n",
       "      <td>18</td>\n",
       "      <td>female</td>\n",
       "      <td>36.850</td>\n",
       "      <td>0</td>\n",
       "      <td>no</td>\n",
       "      <td>southeast</td>\n",
       "      <td>1629.83350</td>\n",
       "    </tr>\n",
       "    <tr>\n",
       "      <th>1336</th>\n",
       "      <td>21</td>\n",
       "      <td>female</td>\n",
       "      <td>25.800</td>\n",
       "      <td>0</td>\n",
       "      <td>no</td>\n",
       "      <td>southwest</td>\n",
       "      <td>2007.94500</td>\n",
       "    </tr>\n",
       "    <tr>\n",
       "      <th>1337</th>\n",
       "      <td>61</td>\n",
       "      <td>female</td>\n",
       "      <td>29.070</td>\n",
       "      <td>0</td>\n",
       "      <td>yes</td>\n",
       "      <td>northwest</td>\n",
       "      <td>29141.36030</td>\n",
       "    </tr>\n",
       "  </tbody>\n",
       "</table>\n",
       "<p>1338 rows × 7 columns</p>\n",
       "</div>"
      ],
      "text/plain": [
       "      age     sex     bmi  children smoker     region      charges\n",
       "0      19  female  27.900         0    yes  southwest  16884.92400\n",
       "1      18    male  33.770         1     no  southeast   1725.55230\n",
       "2      28    male  33.000         3     no  southeast   4449.46200\n",
       "3      33    male  22.705         0     no  northwest  21984.47061\n",
       "4      32    male  28.880         0     no  northwest   3866.85520\n",
       "...   ...     ...     ...       ...    ...        ...          ...\n",
       "1333   50    male  30.970         3     no  northwest  10600.54830\n",
       "1334   18  female  31.920         0     no  northeast   2205.98080\n",
       "1335   18  female  36.850         0     no  southeast   1629.83350\n",
       "1336   21  female  25.800         0     no  southwest   2007.94500\n",
       "1337   61  female  29.070         0    yes  northwest  29141.36030\n",
       "\n",
       "[1338 rows x 7 columns]"
      ]
     },
     "execution_count": 4,
     "metadata": {},
     "output_type": "execute_result"
    }
   ],
   "source": [
    "insurance = pd.read_csv(\"insurance.csv\")\n",
    "insurance"
   ]
  },
  {
   "cell_type": "code",
   "execution_count": 12,
   "id": "e89444d9",
   "metadata": {},
   "outputs": [
    {
     "name": "stdout",
     "output_type": "stream",
     "text": [
      "<class 'pandas.core.frame.DataFrame'>\n",
      "RangeIndex: 1338 entries, 0 to 1337\n",
      "Data columns (total 7 columns):\n",
      " #   Column    Non-Null Count  Dtype  \n",
      "---  ------    --------------  -----  \n",
      " 0   age       1338 non-null   int64  \n",
      " 1   sex       1338 non-null   object \n",
      " 2   bmi       1338 non-null   float64\n",
      " 3   children  1338 non-null   int64  \n",
      " 4   smoker    1338 non-null   object \n",
      " 5   region    1338 non-null   object \n",
      " 6   charges   1338 non-null   float64\n",
      "dtypes: float64(2), int64(2), object(3)\n",
      "memory usage: 73.3+ KB\n"
     ]
    }
   ],
   "source": [
    "insurance.info()"
   ]
  },
  {
   "cell_type": "code",
   "execution_count": 13,
   "id": "10644602",
   "metadata": {},
   "outputs": [
    {
     "data": {
      "text/plain": [
       "array([dtype('int64'), dtype('O'), dtype('float64')], dtype=object)"
      ]
     },
     "execution_count": 13,
     "metadata": {},
     "output_type": "execute_result"
    }
   ],
   "source": [
    "insurance.dtypes.unique()"
   ]
  },
  {
   "cell_type": "code",
   "execution_count": 14,
   "id": "2c9c7884",
   "metadata": {},
   "outputs": [
    {
     "data": {
      "text/plain": [
       "Index(['age', 'sex', 'bmi', 'children', 'smoker', 'region', 'charges'], dtype='object')"
      ]
     },
     "execution_count": 14,
     "metadata": {},
     "output_type": "execute_result"
    }
   ],
   "source": [
    "insurance.columns"
   ]
  },
  {
   "cell_type": "code",
   "execution_count": 15,
   "id": "cecb6436",
   "metadata": {},
   "outputs": [
    {
     "data": {
      "text/plain": [
       "{int64: ['age', 'children'], float64: ['bmi', 'charges'], object: ['sex', 'smoker', 'region']}"
      ]
     },
     "execution_count": 15,
     "metadata": {},
     "output_type": "execute_result"
    }
   ],
   "source": [
    "grouping = insurance.columns.to_series().groupby(insurance.dtypes).groups\n",
    "grouping"
   ]
  },
  {
   "cell_type": "code",
   "execution_count": null,
   "id": "37f2c391",
   "metadata": {},
   "outputs": [],
   "source": [
    "datatype = {k.name: v for k, v in g.items()}\n",
    "\n",
    "attributes_by_datatype = pd.DataFrame(list(dt.values()), index = dt.keys(), columns = ['Attr 1', 'Attr 2', 'Attr 3'])\n",
    "attributes_by_datatype"
   ]
  },
  {
   "cell_type": "code",
   "execution_count": null,
   "id": "70aaf42f",
   "metadata": {},
   "outputs": [],
   "source": [
    "cat_columns = data.select_dtypes(['category']).columns\n",
    "cat_columns"
   ]
  },
  {
   "cell_type": "code",
   "execution_count": 17,
   "id": "da16fa0c",
   "metadata": {},
   "outputs": [],
   "source": [
    "# Encoding sex coulmn\n",
    "\n",
    "insurance.replace({\"sex\": {\"female\": 0, \"male\": 1}}, inplace = True)\n",
    "\n",
    "# Encoding smoker column\n",
    "\n",
    "insurance.replace({\"smoker\": {\"no\": 0, \"yes\": 1}}, inplace = True)\n",
    "\n",
    "# Encoding region column\n",
    "\n",
    "insurance.replace({\"region\": {\"northeast\": 0, \"northwest\": 1, \"southeast\": 2, \"southwest\": 3}}, inplace = True)\n"
   ]
  },
  {
   "cell_type": "code",
   "execution_count": 18,
   "id": "671ec882",
   "metadata": {},
   "outputs": [
    {
     "data": {
      "text/html": [
       "<div>\n",
       "<style scoped>\n",
       "    .dataframe tbody tr th:only-of-type {\n",
       "        vertical-align: middle;\n",
       "    }\n",
       "\n",
       "    .dataframe tbody tr th {\n",
       "        vertical-align: top;\n",
       "    }\n",
       "\n",
       "    .dataframe thead th {\n",
       "        text-align: right;\n",
       "    }\n",
       "</style>\n",
       "<table border=\"1\" class=\"dataframe\">\n",
       "  <thead>\n",
       "    <tr style=\"text-align: right;\">\n",
       "      <th></th>\n",
       "      <th>age</th>\n",
       "      <th>sex</th>\n",
       "      <th>bmi</th>\n",
       "      <th>children</th>\n",
       "      <th>smoker</th>\n",
       "      <th>region</th>\n",
       "      <th>charges</th>\n",
       "    </tr>\n",
       "  </thead>\n",
       "  <tbody>\n",
       "    <tr>\n",
       "      <th>0</th>\n",
       "      <td>19</td>\n",
       "      <td>0</td>\n",
       "      <td>27.900</td>\n",
       "      <td>0</td>\n",
       "      <td>1</td>\n",
       "      <td>3</td>\n",
       "      <td>16884.92400</td>\n",
       "    </tr>\n",
       "    <tr>\n",
       "      <th>1</th>\n",
       "      <td>18</td>\n",
       "      <td>1</td>\n",
       "      <td>33.770</td>\n",
       "      <td>1</td>\n",
       "      <td>0</td>\n",
       "      <td>2</td>\n",
       "      <td>1725.55230</td>\n",
       "    </tr>\n",
       "    <tr>\n",
       "      <th>2</th>\n",
       "      <td>28</td>\n",
       "      <td>1</td>\n",
       "      <td>33.000</td>\n",
       "      <td>3</td>\n",
       "      <td>0</td>\n",
       "      <td>2</td>\n",
       "      <td>4449.46200</td>\n",
       "    </tr>\n",
       "    <tr>\n",
       "      <th>3</th>\n",
       "      <td>33</td>\n",
       "      <td>1</td>\n",
       "      <td>22.705</td>\n",
       "      <td>0</td>\n",
       "      <td>0</td>\n",
       "      <td>1</td>\n",
       "      <td>21984.47061</td>\n",
       "    </tr>\n",
       "    <tr>\n",
       "      <th>4</th>\n",
       "      <td>32</td>\n",
       "      <td>1</td>\n",
       "      <td>28.880</td>\n",
       "      <td>0</td>\n",
       "      <td>0</td>\n",
       "      <td>1</td>\n",
       "      <td>3866.85520</td>\n",
       "    </tr>\n",
       "  </tbody>\n",
       "</table>\n",
       "</div>"
      ],
      "text/plain": [
       "   age  sex     bmi  children  smoker  region      charges\n",
       "0   19    0  27.900         0       1       3  16884.92400\n",
       "1   18    1  33.770         1       0       2   1725.55230\n",
       "2   28    1  33.000         3       0       2   4449.46200\n",
       "3   33    1  22.705         0       0       1  21984.47061\n",
       "4   32    1  28.880         0       0       1   3866.85520"
      ]
     },
     "execution_count": 18,
     "metadata": {},
     "output_type": "execute_result"
    }
   ],
   "source": [
    "insurance.head()"
   ]
  },
  {
   "cell_type": "code",
   "execution_count": 19,
   "id": "d7603cc5",
   "metadata": {},
   "outputs": [
    {
     "data": {
      "text/plain": [
       "<AxesSubplot:>"
      ]
     },
     "execution_count": 19,
     "metadata": {},
     "output_type": "execute_result"
    },
    {
     "data": {
      "image/png": "[encoded data removed]",
      "text/plain": [
       "<Figure size 720x576 with 2 Axes>"
      ]
     },
     "metadata": {
      "needs_background": "light"
     },
     "output_type": "display_data"
    }
   ],
   "source": [
    "corr = insurance.corr()\n",
    "plt.figure(figsize=(10, 8))\n",
    "sns.heatmap(corr, annot=True, cmap = 'summer_r')                          "
   ]
  },
  {
   "cell_type": "code",
   "execution_count": null,
   "id": "e746aa69",
   "metadata": {},
   "outputs": [],
   "source": [
    "Langkah #5 - Pengujian Hipotesis"
   ]
  },
  {
   "cell_type": "code",
   "execution_count": 47,
   "id": "d3dc5580",
   "metadata": {},
   "outputs": [
    {
     "name": "stdout",
     "output_type": "stream",
     "text": [
      "Jumlah perokok adalah : 274\n",
      "Variance tagihan perokok adalah : 132721153.13625304\n",
      "Jumlah non perokok adalah : 1064\n",
      "Variance tagihan non perokok adalah: 35891656.00316425\n"
     ]
    }
   ],
   "source": [
    "# 1. Tagihan kesehatan perokok lebih tinggi daripada tagihan kesehatan non perokok\n",
    "\n",
    "Ho = \"Tagihan perokok dan non perokok sama\"   \n",
    "Ha = \"Tagihan perokok dan non perokok tidak sama\"\n",
    "\n",
    "nonPerokok = insurance[insurance[\"smoker\"] == 0]\n",
    "perokok = insurance[insurance[\"smoker\"] == 1]\n",
    "tagihan_nonPerokok = nonPerokok[\"charges\"]\n",
    "tagihan_perokok = perokok[\"charges\"]\n",
    "\n",
    "print(f'Jumlah perokok adalah : {perokok.shape[0]}')\n",
    "print(f'Variance tagihan perokok adalah : {np.var(tagihan_perokok)}')\n",
    "print(f'Jumlah non perokok adalah : {nonPerokok.shape[0]}')\n",
    "print(f'Variance tagihan non perokok adalah: {np.var(tagihan_nonPerokok)}')"
   ]
  },
  {
   "cell_type": "code",
   "execution_count": 48,
   "id": "1d9e0230",
   "metadata": {},
   "outputs": [
    {
     "name": "stdout",
     "output_type": "stream",
     "text": [
      "t_statistic: 32.751887766341824\n",
      "p_value: 5.88946444671698e-103\n"
     ]
    }
   ],
   "source": [
    "from scipy.stats import ttest_ind\n",
    "\n",
    "t_statistic, p_value = ttest_ind(tagihan_perokok, tagihan_nonPerokok, equal_var=False)\n",
    "print(f't_statistic: {t_statistic}\\np_value: {p_value}')"
   ]
  },
  {
   "cell_type": "code",
   "execution_count": null,
   "id": "30711d32",
   "metadata": {},
   "outputs": [],
   "source": [
    "reject null hyphothesis"
   ]
  },
  {
   "cell_type": "code",
   "execution_count": 36,
   "id": "8513e30a",
   "metadata": {},
   "outputs": [
    {
     "name": "stdout",
     "output_type": "stream",
     "text": [
      "1.7916455594610296e-05\n",
      "p-value = 0.000018\n"
     ]
    }
   ],
   "source": [
    "# 2. Tagihan kesehatan dengan BMI diatas 25 lebih tinggi daripada tagihan kesehatan dengan BMI dibawah 25\n",
    "\n",
    "Ho = \"Tagihan kesehatan BMI diatas 25 dan dibawah 25 sama\"   \n",
    "Ha = \"Tagihan kesehatan BMI diatas 25 dan dibawah 25 tidak sama\"\n",
    "\n",
    "x = np.array(insurance[insurance.bmi > 25].charges) \n",
    "y = np.array(insurance[insurance.bmi < 25].charges)\n",
    "\n",
    "# jelaskan mengapa menggunakan independet t-test\n",
    "\n",
    "# performing an independent t-test\n",
    "t, p_value  = stats.ttest_ind(x,y, axis = 0)\n",
    "\n",
    "print(p_value)\n",
    "print(\"p-value = %.6f\" % (p_value))"
   ]
  },
  {
   "cell_type": "code",
   "execution_count": null,
   "id": "1ff45efc",
   "metadata": {},
   "outputs": [],
   "source": [
    "reject null hypothesis"
   ]
  },
  {
   "cell_type": "code",
   "execution_count": 49,
   "id": "df3d017e",
   "metadata": {},
   "outputs": [
    {
     "name": "stdout",
     "output_type": "stream",
     "text": [
      "Jumlah bmi lebih dari 25 adalah : 1091\n",
      "Variance tagihan bmi lebih dari 25 adalah : 164579189.5213265\n",
      "Jumlah bmi kurang dari adalah : 245\n",
      "Variance tagihan bmi kurang dari adalah: 56326859.63068615\n"
     ]
    }
   ],
   "source": [
    "Ho = \"Tagihan kesehatan BMI diatas 25 dan dibawah 25 sama\"   \n",
    "Ha = \"Tagihan kesehatan BMI diatas 25 dan dibawah 25 tidak sama\"\n",
    "\n",
    "bmi_lebih_25 = insurance[insurance[\"bmi\"] > 25]\n",
    "bmi_kurang_25 = insurance[insurance[\"bmi\"] < 25]\n",
    "tagihan_lebih_25 = bmi_lebih_25[\"charges\"]\n",
    "tagihan_kurang_25 = bmi_kurang_25[\"charges\"]\n",
    "\n",
    "print(f'Jumlah bmi lebih dari 25 adalah : {bmi_lebih_25.shape[0]}')\n",
    "print(f'Variance tagihan bmi lebih dari 25 adalah : {np.var(tagihan_lebih_25)}')\n",
    "print(f'Jumlah bmi kurang dari adalah : {bmi_kurang_25.shape[0]}')\n",
    "print(f'Variance tagihan bmi kurang dari adalah: {np.var(tagihan_kurang_25)}')"
   ]
  },
  {
   "cell_type": "code",
   "execution_count": 50,
   "id": "a410a0b6",
   "metadata": {},
   "outputs": [
    {
     "name": "stdout",
     "output_type": "stream",
     "text": [
      "t_statistic: 5.929878344096734\n",
      "p_value: 5.080897303161378e-09\n"
     ]
    }
   ],
   "source": [
    "from scipy.stats import ttest_ind\n",
    "\n",
    "t_statistic, p_value = ttest_ind(tagihan_lebih_25, tagihan_kurang_25, equal_var=False)\n",
    "print(f't_statistic: {t_statistic}\\np_value: {p_value}')"
   ]
  },
  {
   "cell_type": "code",
   "execution_count": null,
   "id": "feb5511f",
   "metadata": {},
   "outputs": [],
   "source": [
    "reject null hypothesis"
   ]
  },
  {
   "cell_type": "code",
   "execution_count": 56,
   "id": "2464c598",
   "metadata": {},
   "outputs": [
    {
     "name": "stdout",
     "output_type": "stream",
     "text": [
      "Jumlah laki-laki adalah : 676\n",
      "Variance bmi laki-laki adalah : 37.6491607363954\n",
      "Jumlah perempuan adalah: 662\n",
      "Variance bmi perempuan adalah: 36.49917703379856\n"
     ]
    }
   ],
   "source": [
    "# 3  BMI laki-laki dan perempuan sama\n",
    "\n",
    "Ho = \"BMI laki-laki dan perempuan sama\"                                                                    \n",
    "Ha = \"BMI laki-laki dan perempuan tidak sama\"\n",
    "\n",
    "laki = insurance[insurance['sex'] == 1]\n",
    "perempuan = insurance[insurance['sex'] == 0]\n",
    "bmi_laki = laki['bmi']\n",
    "bmi_perempuan = perempuan['bmi']\n",
    "\n",
    "print(f'Jumlah laki-laki adalah : {laki.shape[0]}')\n",
    "print(f'Variance bmi laki-laki adalah : {np.var(bmi_laki)}')\n",
    "print(f'Jumlah perempuan adalah: {perempuan.shape[0]}')\n",
    "print(f'Variance bmi perempuan adalah: {np.var(bmi_perempuan)}')\n"
   ]
  },
  {
   "cell_type": "code",
   "execution_count": 57,
   "id": "782d89bc",
   "metadata": {},
   "outputs": [
    {
     "name": "stdout",
     "output_type": "stream",
     "text": [
      "t_statistic: 1.697027933124022\n",
      "p_value: 0.08992430667834876\n"
     ]
    }
   ],
   "source": [
    "from scipy.stats import ttest_ind\n",
    "\n",
    "t_statistic, p_value = ttest_ind(bmi_laki, bmi_perempuan, equal_var=False)\n",
    "print(f't_statistic: {t_statistic}\\np_value: {p_value}')"
   ]
  },
  {
   "cell_type": "code",
   "execution_count": null,
   "id": "d4535006",
   "metadata": {},
   "outputs": [],
   "source": [
    "gagal tolak null hypothesis"
   ]
  }
 ],
 "metadata": {
  "kernelspec": {
   "display_name": "Python 3 (ipykernel)",
   "language": "python",
   "name": "python3"
  },
  "language_info": {
   "codemirror_mode": {
    "name": "ipython",
    "version": 3
   },
   "file_extension": ".py",
   "mimetype": "text/x-python",
   "name": "python",
   "nbconvert_exporter": "python",
   "pygments_lexer": "ipython3",
   "version": "3.9.12"
  }
 },
 "nbformat": 4,
 "nbformat_minor": 5
}
